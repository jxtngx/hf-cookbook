{
 "cells": [
  {
   "cell_type": "markdown",
   "id": "3f5f8cc6",
   "metadata": {},
   "source": [
    "# Advanced RAG on Hugging Face Collections with LangChain, Cohere, and Llama 3"
   ]
  },
  {
   "cell_type": "markdown",
   "id": "cf796696",
   "metadata": {},
   "source": [
    "Authored by: [Justin Goheen](https://huggingface.co/jxtngx)"
   ]
  },
  {
   "cell_type": "markdown",
   "id": "a769d66e",
   "metadata": {},
   "source": [
    "This demo shows how to perform advanced Retrieval Augmented Generation (RAG) on documents contained in a Hugging Face Collection.\n",
    "\n",
    "For an introduction to advanced RAG, you can check out this [other cookbook](https://huggingface.co/learn/cookbook/en/advanced_rag), by [Aymeric Roucher](https://huggingface.co/m-ric)."
   ]
  },
  {
   "cell_type": "markdown",
   "id": "cb5d1f9e-4ec2-4b43-be76-9a70b226af98",
   "metadata": {},
   "source": [
    "We will use the following tools:"
   ]
  },
  {
   "cell_type": "markdown",
   "id": "25fa8f59",
   "metadata": {},
   "source": [
    "<div>\n",
    "    <table>\n",
    "        <tr>\n",
    "            <th>requirement</th>\n",
    "            <th>purpose</th>\n",
    "            <th>link</th>\n",
    "        </tr>\n",
    "        <tr>\n",
    "            <td>LangChain</td>\n",
    "            <td>LLM workflow framework</td>\n",
    "            <td><a href=\"https://python.langchain.com/v0.2/docs/introduction/\">docs</a></td>\n",
    "        </tr>\n",
    "        <tr>\n",
    "            <td>Comet LLM</td>\n",
    "            <td>tracking LLM workflows</td>\n",
    "            <td><a href=\"https://www.comet.com/docs/v2/guides/comet-llm/quickstart/\">docs</a></td> \n",
    "        </tr>\n",
    "        <tr>\n",
    "            <td>Unstructured</td>\n",
    "            <td>document processing</td>\n",
    "            <td><a href=\"https://docs.unstructured.io/welcome\">docs</a></td> \n",
    "        </tr>\n",
    "        <tr>\n",
    "            <td>Llama 3 70B Instruct</td>\n",
    "            <td>synthesizer model</td>\n",
    "            <td><a href=\"https://huggingface.co/meta-llama/Meta-Llama-3-70B-Instruct\">docs</a></td> \n",
    "        </tr>\n",
    "        <tr>\n",
    "            <td>Cohere Reranker</td>\n",
    "            <td>reranking model</td>\n",
    "            <td><a href=\"https://cohere.com/rerank\">docs</a></td> \n",
    "        </tr>\n",
    "        <tr>\n",
    "            <td>Hugging Face Hub API</td>\n",
    "            <td>interact with the HF Hub</td>\n",
    "            <td><a href=\"https://huggingface.co/docs/huggingface_hub/index\">docs</a></td> \n",
    "        </tr>\n",
    "        <tr>\n",
    "            <td>Hugging Face Inference API</td>\n",
    "            <td>serverless inference for prototyping</td>\n",
    "            <td><a href=\"https://huggingface.co/docs/api-inference/index\">docs</a></td> \n",
    "        </tr>\n",
    "        <tr>\n",
    "            <td>Weaviate</td>\n",
    "            <td>vector database</td>\n",
    "            <td><a href=\"https://huggingface.co/docs/api-inference/index\">docs</a></td> \n",
    "        </tr>\n",
    "        <tr>\n",
    "            <td>python-dotenv</td>\n",
    "            <td>reading environment variables</td>\n",
    "            <td><a href=\"https://saurabh-kumar.com/python-dotenv/\">docs</a></td> \n",
    "        </tr>\n",
    "    </table>\n",
    "</div>"
   ]
  },
  {
   "cell_type": "markdown",
   "id": "f9f738d0",
   "metadata": {},
   "source": [
    "## Installs"
   ]
  },
  {
   "cell_type": "markdown",
   "id": "3b929755",
   "metadata": {},
   "source": [
    "<ol>\n",
    "    <li>langchain</li>\n",
    "    <li>langchain-weaviate</li>\n",
    "    <li>langchain-cohere</li>\n",
    "    <li>langchain-huggingface</li>\n",
    "    <li>langchain-community</li>\n",
    "    <li>weaviate-client</li>\n",
    "    <li>comet-llm</li>\n",
    "    <li>huggingface-hub</li>\n",
    "    <li>unstructured[all-docs]</li>\n",
    "</ol>"
   ]
  },
  {
   "cell_type": "code",
   "execution_count": 1,
   "id": "2f932c47",
   "metadata": {},
   "outputs": [
    {
     "name": "stdout",
     "output_type": "stream",
     "text": [
      "Requirement already satisfied: langchain in /Users/justin/Developer/huggingface/hf-cookbook/.venv/lib/python3.11/site-packages (0.2.5)\n",
      "Requirement already satisfied: huggingface-hub in /Users/justin/Developer/huggingface/hf-cookbook/.venv/lib/python3.11/site-packages (0.23.4)\n",
      "Requirement already satisfied: comet-llm in /Users/justin/Developer/huggingface/hf-cookbook/.venv/lib/python3.11/site-packages (2.2.5)\n",
      "Requirement already satisfied: weaviate-client in /Users/justin/Developer/huggingface/hf-cookbook/.venv/lib/python3.11/site-packages (4.6.5)\n",
      "Requirement already satisfied: langchain-weaviate in /Users/justin/Developer/huggingface/hf-cookbook/.venv/lib/python3.11/site-packages (0.0.2)\n",
      "Requirement already satisfied: langchain-cohere in /Users/justin/Developer/huggingface/hf-cookbook/.venv/lib/python3.11/site-packages (0.1.8)\n",
      "Requirement already satisfied: langchain-huggingface in /Users/justin/Developer/huggingface/hf-cookbook/.venv/lib/python3.11/site-packages (0.0.3)\n",
      "Requirement already satisfied: langchain-community in /Users/justin/Developer/huggingface/hf-cookbook/.venv/lib/python3.11/site-packages (0.2.5)\n",
      "Requirement already satisfied: python-dotenv in /Users/justin/Developer/huggingface/hf-cookbook/.venv/lib/python3.11/site-packages (1.0.1)\n",
      "Requirement already satisfied: unstructured[all-docs] in /Users/justin/Developer/huggingface/hf-cookbook/.venv/lib/python3.11/site-packages (0.14.6)\n",
      "Requirement already satisfied: PyYAML>=5.3 in /Users/justin/Developer/huggingface/hf-cookbook/.venv/lib/python3.11/site-packages (from langchain) (6.0.1)\n",
      "Requirement already satisfied: SQLAlchemy<3,>=1.4 in /Users/justin/Developer/huggingface/hf-cookbook/.venv/lib/python3.11/site-packages (from langchain) (2.0.30)\n",
      "Requirement already satisfied: aiohttp<4.0.0,>=3.8.3 in /Users/justin/Developer/huggingface/hf-cookbook/.venv/lib/python3.11/site-packages (from langchain) (3.9.5)\n",
      "Requirement already satisfied: langchain-core<0.3.0,>=0.2.7 in /Users/justin/Developer/huggingface/hf-cookbook/.venv/lib/python3.11/site-packages (from langchain) (0.2.8)\n",
      "Requirement already satisfied: langchain-text-splitters<0.3.0,>=0.2.0 in /Users/justin/Developer/huggingface/hf-cookbook/.venv/lib/python3.11/site-packages (from langchain) (0.2.1)\n",
      "Requirement already satisfied: langsmith<0.2.0,>=0.1.17 in /Users/justin/Developer/huggingface/hf-cookbook/.venv/lib/python3.11/site-packages (from langchain) (0.1.79)\n",
      "Requirement already satisfied: numpy<2,>=1 in /Users/justin/Developer/huggingface/hf-cookbook/.venv/lib/python3.11/site-packages (from langchain) (1.26.4)\n",
      "Requirement already satisfied: pydantic<3,>=1 in /Users/justin/Developer/huggingface/hf-cookbook/.venv/lib/python3.11/site-packages (from langchain) (2.7.4)\n",
      "Requirement already satisfied: requests<3,>=2 in /Users/justin/Developer/huggingface/hf-cookbook/.venv/lib/python3.11/site-packages (from langchain) (2.32.3)\n",
      "Requirement already satisfied: tenacity<9.0.0,>=8.1.0 in /Users/justin/Developer/huggingface/hf-cookbook/.venv/lib/python3.11/site-packages (from langchain) (8.4.1)\n",
      "Requirement already satisfied: filelock in /Users/justin/Developer/huggingface/hf-cookbook/.venv/lib/python3.11/site-packages (from huggingface-hub) (3.15.1)\n",
      "Requirement already satisfied: fsspec>=2023.5.0 in /Users/justin/Developer/huggingface/hf-cookbook/.venv/lib/python3.11/site-packages (from huggingface-hub) (2024.6.0)\n",
      "Requirement already satisfied: packaging>=20.9 in /Users/justin/Developer/huggingface/hf-cookbook/.venv/lib/python3.11/site-packages (from huggingface-hub) (24.1)\n",
      "Requirement already satisfied: tqdm>=4.42.1 in /Users/justin/Developer/huggingface/hf-cookbook/.venv/lib/python3.11/site-packages (from huggingface-hub) (4.66.4)\n",
      "Requirement already satisfied: typing-extensions>=3.7.4.3 in /Users/justin/Developer/huggingface/hf-cookbook/.venv/lib/python3.11/site-packages (from huggingface-hub) (4.12.2)\n",
      "Requirement already satisfied: comet-ml>=3.43.0 in /Users/justin/Developer/huggingface/hf-cookbook/.venv/lib/python3.11/site-packages (from comet-llm) (3.43.2)\n",
      "Requirement already satisfied: flatten-dict in /Users/justin/Developer/huggingface/hf-cookbook/.venv/lib/python3.11/site-packages (from comet-llm) (0.4.2)\n",
      "Requirement already satisfied: types-requests in /Users/justin/Developer/huggingface/hf-cookbook/.venv/lib/python3.11/site-packages (from comet-llm) (2.32.0.20240622)\n",
      "Requirement already satisfied: chardet in /Users/justin/Developer/huggingface/hf-cookbook/.venv/lib/python3.11/site-packages (from unstructured[all-docs]) (5.2.0)\n",
      "Requirement already satisfied: filetype in /Users/justin/Developer/huggingface/hf-cookbook/.venv/lib/python3.11/site-packages (from unstructured[all-docs]) (1.2.0)\n",
      "Requirement already satisfied: python-magic in /Users/justin/Developer/huggingface/hf-cookbook/.venv/lib/python3.11/site-packages (from unstructured[all-docs]) (0.4.27)\n",
      "Requirement already satisfied: lxml in /Users/justin/Developer/huggingface/hf-cookbook/.venv/lib/python3.11/site-packages (from unstructured[all-docs]) (5.2.2)\n",
      "Requirement already satisfied: nltk in /Users/justin/Developer/huggingface/hf-cookbook/.venv/lib/python3.11/site-packages (from unstructured[all-docs]) (3.8.1)\n",
      "Requirement already satisfied: tabulate in /Users/justin/Developer/huggingface/hf-cookbook/.venv/lib/python3.11/site-packages (from unstructured[all-docs]) (0.9.0)\n",
      "Requirement already satisfied: beautifulsoup4 in /Users/justin/Developer/huggingface/hf-cookbook/.venv/lib/python3.11/site-packages (from unstructured[all-docs]) (4.12.3)\n",
      "Requirement already satisfied: emoji in /Users/justin/Developer/huggingface/hf-cookbook/.venv/lib/python3.11/site-packages (from unstructured[all-docs]) (2.12.1)\n",
      "Requirement already satisfied: dataclasses-json in /Users/justin/Developer/huggingface/hf-cookbook/.venv/lib/python3.11/site-packages (from unstructured[all-docs]) (0.6.7)\n",
      "Requirement already satisfied: python-iso639 in /Users/justin/Developer/huggingface/hf-cookbook/.venv/lib/python3.11/site-packages (from unstructured[all-docs]) (2024.4.27)\n",
      "Requirement already satisfied: langdetect in /Users/justin/Developer/huggingface/hf-cookbook/.venv/lib/python3.11/site-packages (from unstructured[all-docs]) (1.0.9)\n",
      "Requirement already satisfied: rapidfuzz in /Users/justin/Developer/huggingface/hf-cookbook/.venv/lib/python3.11/site-packages (from unstructured[all-docs]) (3.9.3)\n",
      "Requirement already satisfied: backoff in /Users/justin/Developer/huggingface/hf-cookbook/.venv/lib/python3.11/site-packages (from unstructured[all-docs]) (2.2.1)\n",
      "Requirement already satisfied: unstructured-client in /Users/justin/Developer/huggingface/hf-cookbook/.venv/lib/python3.11/site-packages (from unstructured[all-docs]) (0.23.7)\n",
      "Requirement already satisfied: wrapt in /Users/justin/Developer/huggingface/hf-cookbook/.venv/lib/python3.11/site-packages (from unstructured[all-docs]) (1.16.0)\n",
      "Requirement already satisfied: python-pptx<=0.6.23 in /Users/justin/Developer/huggingface/hf-cookbook/.venv/lib/python3.11/site-packages (from unstructured[all-docs]) (0.6.23)\n",
      "Requirement already satisfied: pdf2image in /Users/justin/Developer/huggingface/hf-cookbook/.venv/lib/python3.11/site-packages (from unstructured[all-docs]) (1.17.0)\n",
      "Requirement already satisfied: python-docx>=1.1.2 in /Users/justin/Developer/huggingface/hf-cookbook/.venv/lib/python3.11/site-packages (from unstructured[all-docs]) (1.1.2)\n",
      "Requirement already satisfied: effdet in /Users/justin/Developer/huggingface/hf-cookbook/.venv/lib/python3.11/site-packages (from unstructured[all-docs]) (0.4.1)\n",
      "Requirement already satisfied: pikepdf in /Users/justin/Developer/huggingface/hf-cookbook/.venv/lib/python3.11/site-packages (from unstructured[all-docs]) (9.0.0)\n",
      "Requirement already satisfied: pypdf in /Users/justin/Developer/huggingface/hf-cookbook/.venv/lib/python3.11/site-packages (from unstructured[all-docs]) (4.2.0)\n",
      "Requirement already satisfied: python-oxmsg in /Users/justin/Developer/huggingface/hf-cookbook/.venv/lib/python3.11/site-packages (from unstructured[all-docs]) (0.0.1)\n",
      "Requirement already satisfied: unstructured.pytesseract>=0.3.12 in /Users/justin/Developer/huggingface/hf-cookbook/.venv/lib/python3.11/site-packages (from unstructured[all-docs]) (0.3.12)\n",
      "Requirement already satisfied: pytesseract in /Users/justin/Developer/huggingface/hf-cookbook/.venv/lib/python3.11/site-packages (from unstructured[all-docs]) (0.3.10)\n",
      "Requirement already satisfied: onnx in /Users/justin/Developer/huggingface/hf-cookbook/.venv/lib/python3.11/site-packages (from unstructured[all-docs]) (1.16.1)\n",
      "Requirement already satisfied: openpyxl in /Users/justin/Developer/huggingface/hf-cookbook/.venv/lib/python3.11/site-packages (from unstructured[all-docs]) (3.1.4)\n",
      "Requirement already satisfied: pillow-heif in /Users/justin/Developer/huggingface/hf-cookbook/.venv/lib/python3.11/site-packages (from unstructured[all-docs]) (0.16.0)\n",
      "Requirement already satisfied: pandas in /Users/justin/Developer/huggingface/hf-cookbook/.venv/lib/python3.11/site-packages (from unstructured[all-docs]) (2.2.2)\n",
      "Requirement already satisfied: google-cloud-vision in /Users/justin/Developer/huggingface/hf-cookbook/.venv/lib/python3.11/site-packages (from unstructured[all-docs]) (2.7.2)\n",
      "Requirement already satisfied: xlrd in /Users/justin/Developer/huggingface/hf-cookbook/.venv/lib/python3.11/site-packages (from unstructured[all-docs]) (2.0.1)\n",
      "Requirement already satisfied: networkx in /Users/justin/Developer/huggingface/hf-cookbook/.venv/lib/python3.11/site-packages (from unstructured[all-docs]) (3.3)\n",
      "Requirement already satisfied: pdfminer.six in /Users/justin/Developer/huggingface/hf-cookbook/.venv/lib/python3.11/site-packages (from unstructured[all-docs]) (20231228)\n",
      "Requirement already satisfied: markdown in /Users/justin/Developer/huggingface/hf-cookbook/.venv/lib/python3.11/site-packages (from unstructured[all-docs]) (3.6)\n",
      "Requirement already satisfied: pypandoc in /Users/justin/Developer/huggingface/hf-cookbook/.venv/lib/python3.11/site-packages (from unstructured[all-docs]) (1.13)\n",
      "Requirement already satisfied: unstructured-inference==0.7.35 in /Users/justin/Developer/huggingface/hf-cookbook/.venv/lib/python3.11/site-packages (from unstructured[all-docs]) (0.7.35)\n",
      "Requirement already satisfied: layoutparser in /Users/justin/Developer/huggingface/hf-cookbook/.venv/lib/python3.11/site-packages (from unstructured-inference==0.7.35->unstructured[all-docs]) (0.3.4)\n",
      "Requirement already satisfied: python-multipart in /Users/justin/Developer/huggingface/hf-cookbook/.venv/lib/python3.11/site-packages (from unstructured-inference==0.7.35->unstructured[all-docs]) (0.0.9)\n",
      "Requirement already satisfied: opencv-python!=4.7.0.68 in /Users/justin/Developer/huggingface/hf-cookbook/.venv/lib/python3.11/site-packages (from unstructured-inference==0.7.35->unstructured[all-docs]) (4.10.0.84)\n",
      "Requirement already satisfied: onnxruntime>=1.17.0 in /Users/justin/Developer/huggingface/hf-cookbook/.venv/lib/python3.11/site-packages (from unstructured-inference==0.7.35->unstructured[all-docs]) (1.18.0)\n",
      "Requirement already satisfied: matplotlib in /Users/justin/Developer/huggingface/hf-cookbook/.venv/lib/python3.11/site-packages (from unstructured-inference==0.7.35->unstructured[all-docs]) (3.9.0)\n",
      "Requirement already satisfied: torch in /Users/justin/Developer/huggingface/hf-cookbook/.venv/lib/python3.11/site-packages (from unstructured-inference==0.7.35->unstructured[all-docs]) (2.3.1)\n",
      "Requirement already satisfied: timm in /Users/justin/Developer/huggingface/hf-cookbook/.venv/lib/python3.11/site-packages (from unstructured-inference==0.7.35->unstructured[all-docs]) (1.0.7)\n",
      "Requirement already satisfied: transformers>=4.25.1 in /Users/justin/Developer/huggingface/hf-cookbook/.venv/lib/python3.11/site-packages (from unstructured-inference==0.7.35->unstructured[all-docs]) (4.41.2)\n",
      "Requirement already satisfied: httpx<=0.27.0,>=0.25.0 in /Users/justin/Developer/huggingface/hf-cookbook/.venv/lib/python3.11/site-packages (from weaviate-client) (0.27.0)\n",
      "Requirement already satisfied: validators==0.28.3 in /Users/justin/Developer/huggingface/hf-cookbook/.venv/lib/python3.11/site-packages (from weaviate-client) (0.28.3)\n",
      "Requirement already satisfied: authlib<2.0.0,>=1.2.1 in /Users/justin/Developer/huggingface/hf-cookbook/.venv/lib/python3.11/site-packages (from weaviate-client) (1.3.1)\n",
      "Requirement already satisfied: grpcio<2.0.0,>=1.57.0 in /Users/justin/Developer/huggingface/hf-cookbook/.venv/lib/python3.11/site-packages (from weaviate-client) (1.64.1)\n",
      "Requirement already satisfied: grpcio-tools<2.0.0,>=1.57.0 in /Users/justin/Developer/huggingface/hf-cookbook/.venv/lib/python3.11/site-packages (from weaviate-client) (1.64.1)\n",
      "Requirement already satisfied: grpcio-health-checking<2.0.0,>=1.57.0 in /Users/justin/Developer/huggingface/hf-cookbook/.venv/lib/python3.11/site-packages (from weaviate-client) (1.64.1)\n",
      "Requirement already satisfied: simsimd<5.0.0,>=3.6.1 in /Users/justin/Developer/huggingface/hf-cookbook/.venv/lib/python3.11/site-packages (from langchain-weaviate) (4.4.0)\n",
      "Requirement already satisfied: cohere<6.0,>=5.5.6 in /Users/justin/Developer/huggingface/hf-cookbook/.venv/lib/python3.11/site-packages (from langchain-cohere) (5.5.8)\n",
      "Requirement already satisfied: sentence-transformers>=2.6.0 in /Users/justin/Developer/huggingface/hf-cookbook/.venv/lib/python3.11/site-packages (from langchain-huggingface) (3.0.1)\n",
      "Requirement already satisfied: tokenizers>=0.19.1 in /Users/justin/Developer/huggingface/hf-cookbook/.venv/lib/python3.11/site-packages (from langchain-huggingface) (0.19.1)\n",
      "Requirement already satisfied: aiosignal>=1.1.2 in /Users/justin/Developer/huggingface/hf-cookbook/.venv/lib/python3.11/site-packages (from aiohttp<4.0.0,>=3.8.3->langchain) (1.3.1)\n",
      "Requirement already satisfied: attrs>=17.3.0 in /Users/justin/Developer/huggingface/hf-cookbook/.venv/lib/python3.11/site-packages (from aiohttp<4.0.0,>=3.8.3->langchain) (23.2.0)\n",
      "Requirement already satisfied: frozenlist>=1.1.1 in /Users/justin/Developer/huggingface/hf-cookbook/.venv/lib/python3.11/site-packages (from aiohttp<4.0.0,>=3.8.3->langchain) (1.4.1)\n",
      "Requirement already satisfied: multidict<7.0,>=4.5 in /Users/justin/Developer/huggingface/hf-cookbook/.venv/lib/python3.11/site-packages (from aiohttp<4.0.0,>=3.8.3->langchain) (6.0.5)\n",
      "Requirement already satisfied: yarl<2.0,>=1.0 in /Users/justin/Developer/huggingface/hf-cookbook/.venv/lib/python3.11/site-packages (from aiohttp<4.0.0,>=3.8.3->langchain) (1.9.4)\n",
      "Requirement already satisfied: cryptography in /Users/justin/Developer/huggingface/hf-cookbook/.venv/lib/python3.11/site-packages (from authlib<2.0.0,>=1.2.1->weaviate-client) (42.0.8)\n",
      "Requirement already satisfied: boto3<2.0.0,>=1.34.0 in /Users/justin/Developer/huggingface/hf-cookbook/.venv/lib/python3.11/site-packages (from cohere<6.0,>=5.5.6->langchain-cohere) (1.34.133)\n",
      "Requirement already satisfied: fastavro<2.0.0,>=1.9.4 in /Users/justin/Developer/huggingface/hf-cookbook/.venv/lib/python3.11/site-packages (from cohere<6.0,>=5.5.6->langchain-cohere) (1.9.4)\n",
      "Requirement already satisfied: httpx-sse<0.5.0,>=0.4.0 in /Users/justin/Developer/huggingface/hf-cookbook/.venv/lib/python3.11/site-packages (from cohere<6.0,>=5.5.6->langchain-cohere) (0.4.0)\n",
      "Requirement already satisfied: parameterized<0.10.0,>=0.9.0 in /Users/justin/Developer/huggingface/hf-cookbook/.venv/lib/python3.11/site-packages (from cohere<6.0,>=5.5.6->langchain-cohere) (0.9.0)\n",
      "Requirement already satisfied: everett<3.2.0,>=1.0.1 in /Users/justin/Developer/huggingface/hf-cookbook/.venv/lib/python3.11/site-packages (from everett[ini]<3.2.0,>=1.0.1->comet-ml>=3.43.0->comet-llm) (3.1.0)\n",
      "Requirement already satisfied: jsonschema!=3.1.0,>=2.6.0 in /Users/justin/Developer/huggingface/hf-cookbook/.venv/lib/python3.11/site-packages (from comet-ml>=3.43.0->comet-llm) (4.22.0)\n",
      "Requirement already satisfied: psutil>=5.6.3 in /Users/justin/Developer/huggingface/hf-cookbook/.venv/lib/python3.11/site-packages (from comet-ml>=3.43.0->comet-llm) (5.9.8)\n",
      "Requirement already satisfied: python-box<7.0.0 in /Users/justin/Developer/huggingface/hf-cookbook/.venv/lib/python3.11/site-packages (from comet-ml>=3.43.0->comet-llm) (6.1.0)\n",
      "Requirement already satisfied: requests-toolbelt>=0.8.0 in /Users/justin/Developer/huggingface/hf-cookbook/.venv/lib/python3.11/site-packages (from comet-ml>=3.43.0->comet-llm) (1.0.0)\n",
      "Requirement already satisfied: semantic-version>=2.8.0 in /Users/justin/Developer/huggingface/hf-cookbook/.venv/lib/python3.11/site-packages (from comet-ml>=3.43.0->comet-llm) (2.10.0)\n",
      "Requirement already satisfied: sentry-sdk>=1.1.0 in /Users/justin/Developer/huggingface/hf-cookbook/.venv/lib/python3.11/site-packages (from comet-ml>=3.43.0->comet-llm) (2.6.0)\n",
      "Requirement already satisfied: simplejson in /Users/justin/Developer/huggingface/hf-cookbook/.venv/lib/python3.11/site-packages (from comet-ml>=3.43.0->comet-llm) (3.19.2)\n",
      "Requirement already satisfied: urllib3>=1.21.1 in /Users/justin/Developer/huggingface/hf-cookbook/.venv/lib/python3.11/site-packages (from comet-ml>=3.43.0->comet-llm) (2.2.2)\n",
      "Requirement already satisfied: wurlitzer>=1.0.2 in /Users/justin/Developer/huggingface/hf-cookbook/.venv/lib/python3.11/site-packages (from comet-ml>=3.43.0->comet-llm) (3.1.1)\n",
      "Requirement already satisfied: dulwich!=0.20.33,>=0.20.6 in /Users/justin/Developer/huggingface/hf-cookbook/.venv/lib/python3.11/site-packages (from comet-ml>=3.43.0->comet-llm) (0.22.1)\n",
      "Requirement already satisfied: rich>=13.3.2 in /Users/justin/Developer/huggingface/hf-cookbook/.venv/lib/python3.11/site-packages (from comet-ml>=3.43.0->comet-llm) (13.7.1)\n",
      "Requirement already satisfied: marshmallow<4.0.0,>=3.18.0 in /Users/justin/Developer/huggingface/hf-cookbook/.venv/lib/python3.11/site-packages (from dataclasses-json->unstructured[all-docs]) (3.21.3)\n",
      "Requirement already satisfied: typing-inspect<1,>=0.4.0 in /Users/justin/Developer/huggingface/hf-cookbook/.venv/lib/python3.11/site-packages (from dataclasses-json->unstructured[all-docs]) (0.9.0)\n",
      "Requirement already satisfied: protobuf<6.0dev,>=5.26.1 in /Users/justin/Developer/huggingface/hf-cookbook/.venv/lib/python3.11/site-packages (from grpcio-health-checking<2.0.0,>=1.57.0->weaviate-client) (5.27.1)\n",
      "Requirement already satisfied: setuptools in /Users/justin/Developer/huggingface/hf-cookbook/.venv/lib/python3.11/site-packages (from grpcio-tools<2.0.0,>=1.57.0->weaviate-client) (65.5.0)\n",
      "Requirement already satisfied: anyio in /Users/justin/Developer/huggingface/hf-cookbook/.venv/lib/python3.11/site-packages (from httpx<=0.27.0,>=0.25.0->weaviate-client) (4.4.0)\n",
      "Requirement already satisfied: certifi in /Users/justin/Developer/huggingface/hf-cookbook/.venv/lib/python3.11/site-packages (from httpx<=0.27.0,>=0.25.0->weaviate-client) (2024.6.2)\n",
      "Requirement already satisfied: httpcore==1.* in /Users/justin/Developer/huggingface/hf-cookbook/.venv/lib/python3.11/site-packages (from httpx<=0.27.0,>=0.25.0->weaviate-client) (1.0.5)\n",
      "Requirement already satisfied: idna in /Users/justin/Developer/huggingface/hf-cookbook/.venv/lib/python3.11/site-packages (from httpx<=0.27.0,>=0.25.0->weaviate-client) (3.7)\n",
      "Requirement already satisfied: sniffio in /Users/justin/Developer/huggingface/hf-cookbook/.venv/lib/python3.11/site-packages (from httpx<=0.27.0,>=0.25.0->weaviate-client) (1.3.1)\n",
      "Requirement already satisfied: h11<0.15,>=0.13 in /Users/justin/Developer/huggingface/hf-cookbook/.venv/lib/python3.11/site-packages (from httpcore==1.*->httpx<=0.27.0,>=0.25.0->weaviate-client) (0.14.0)\n",
      "Requirement already satisfied: jsonpatch<2.0,>=1.33 in /Users/justin/Developer/huggingface/hf-cookbook/.venv/lib/python3.11/site-packages (from langchain-core<0.3.0,>=0.2.7->langchain) (1.33)\n",
      "Requirement already satisfied: orjson<4.0.0,>=3.9.14 in /Users/justin/Developer/huggingface/hf-cookbook/.venv/lib/python3.11/site-packages (from langsmith<0.2.0,>=0.1.17->langchain) (3.10.5)\n",
      "Requirement already satisfied: annotated-types>=0.4.0 in /Users/justin/Developer/huggingface/hf-cookbook/.venv/lib/python3.11/site-packages (from pydantic<3,>=1->langchain) (0.7.0)\n",
      "Requirement already satisfied: pydantic-core==2.18.4 in /Users/justin/Developer/huggingface/hf-cookbook/.venv/lib/python3.11/site-packages (from pydantic<3,>=1->langchain) (2.18.4)\n",
      "Requirement already satisfied: Pillow>=3.3.2 in /Users/justin/Developer/huggingface/hf-cookbook/.venv/lib/python3.11/site-packages (from python-pptx<=0.6.23->unstructured[all-docs]) (10.3.0)\n",
      "Requirement already satisfied: XlsxWriter>=0.5.7 in /Users/justin/Developer/huggingface/hf-cookbook/.venv/lib/python3.11/site-packages (from python-pptx<=0.6.23->unstructured[all-docs]) (3.2.0)\n",
      "Requirement already satisfied: charset-normalizer<4,>=2 in /Users/justin/Developer/huggingface/hf-cookbook/.venv/lib/python3.11/site-packages (from requests<3,>=2->langchain) (3.3.2)\n",
      "Requirement already satisfied: scikit-learn in /Users/justin/Developer/huggingface/hf-cookbook/.venv/lib/python3.11/site-packages (from sentence-transformers>=2.6.0->langchain-huggingface) (1.5.0)\n",
      "Requirement already satisfied: scipy in /Users/justin/Developer/huggingface/hf-cookbook/.venv/lib/python3.11/site-packages (from sentence-transformers>=2.6.0->langchain-huggingface) (1.13.1)\n",
      "Requirement already satisfied: regex!=2019.12.17 in /Users/justin/Developer/huggingface/hf-cookbook/.venv/lib/python3.11/site-packages (from transformers>=4.25.1->unstructured-inference==0.7.35->unstructured[all-docs]) (2024.5.15)\n",
      "Requirement already satisfied: safetensors>=0.4.1 in /Users/justin/Developer/huggingface/hf-cookbook/.venv/lib/python3.11/site-packages (from transformers>=4.25.1->unstructured-inference==0.7.35->unstructured[all-docs]) (0.4.3)\n",
      "Requirement already satisfied: soupsieve>1.2 in /Users/justin/Developer/huggingface/hf-cookbook/.venv/lib/python3.11/site-packages (from beautifulsoup4->unstructured[all-docs]) (2.5)\n",
      "Requirement already satisfied: torchvision in /Users/justin/Developer/huggingface/hf-cookbook/.venv/lib/python3.11/site-packages (from effdet->unstructured[all-docs]) (0.18.1)\n",
      "Requirement already satisfied: pycocotools>=2.0.2 in /Users/justin/Developer/huggingface/hf-cookbook/.venv/lib/python3.11/site-packages (from effdet->unstructured[all-docs]) (2.0.8)\n",
      "Requirement already satisfied: omegaconf>=2.0 in /Users/justin/Developer/huggingface/hf-cookbook/.venv/lib/python3.11/site-packages (from effdet->unstructured[all-docs]) (2.3.0)\n",
      "Requirement already satisfied: six<2.0,>=1.12 in /Users/justin/Developer/huggingface/hf-cookbook/.venv/lib/python3.11/site-packages (from flatten-dict->comet-llm) (1.16.0)\n",
      "Requirement already satisfied: google-api-core!=2.0.*,!=2.1.*,!=2.2.*,!=2.3.0,<3.0.0dev,>=1.31.5 in /Users/justin/Developer/huggingface/hf-cookbook/.venv/lib/python3.11/site-packages (from google-api-core[grpc]!=2.0.*,!=2.1.*,!=2.2.*,!=2.3.0,<3.0.0dev,>=1.31.5->google-cloud-vision->unstructured[all-docs]) (2.8.0)\n",
      "Requirement already satisfied: proto-plus>=1.15.0 in /Users/justin/Developer/huggingface/hf-cookbook/.venv/lib/python3.11/site-packages (from google-cloud-vision->unstructured[all-docs]) (1.24.0)\n",
      "Requirement already satisfied: click in /Users/justin/Developer/huggingface/hf-cookbook/.venv/lib/python3.11/site-packages (from nltk->unstructured[all-docs]) (8.1.7)\n",
      "Requirement already satisfied: joblib in /Users/justin/Developer/huggingface/hf-cookbook/.venv/lib/python3.11/site-packages (from nltk->unstructured[all-docs]) (1.4.2)\n",
      "Requirement already satisfied: et-xmlfile in /Users/justin/Developer/huggingface/hf-cookbook/.venv/lib/python3.11/site-packages (from openpyxl->unstructured[all-docs]) (1.1.0)\n",
      "Requirement already satisfied: python-dateutil>=2.8.2 in /Users/justin/Developer/huggingface/hf-cookbook/.venv/lib/python3.11/site-packages (from pandas->unstructured[all-docs]) (2.9.0.post0)\n",
      "Requirement already satisfied: pytz>=2020.1 in /Users/justin/Developer/huggingface/hf-cookbook/.venv/lib/python3.11/site-packages (from pandas->unstructured[all-docs]) (2024.1)\n",
      "Requirement already satisfied: tzdata>=2022.7 in /Users/justin/Developer/huggingface/hf-cookbook/.venv/lib/python3.11/site-packages (from pandas->unstructured[all-docs]) (2024.1)\n",
      "Requirement already satisfied: Deprecated in /Users/justin/Developer/huggingface/hf-cookbook/.venv/lib/python3.11/site-packages (from pikepdf->unstructured[all-docs]) (1.2.14)\n",
      "Requirement already satisfied: olefile in /Users/justin/Developer/huggingface/hf-cookbook/.venv/lib/python3.11/site-packages (from python-oxmsg->unstructured[all-docs]) (0.47)\n",
      "Requirement already satisfied: deepdiff>=6.0 in /Users/justin/Developer/huggingface/hf-cookbook/.venv/lib/python3.11/site-packages (from unstructured-client->unstructured[all-docs]) (7.0.1)\n",
      "Requirement already satisfied: jsonpath-python>=1.0.6 in /Users/justin/Developer/huggingface/hf-cookbook/.venv/lib/python3.11/site-packages (from unstructured-client->unstructured[all-docs]) (1.0.6)\n",
      "Requirement already satisfied: mypy-extensions>=1.0.0 in /Users/justin/Developer/huggingface/hf-cookbook/.venv/lib/python3.11/site-packages (from unstructured-client->unstructured[all-docs]) (1.0.0)\n",
      "Requirement already satisfied: nest-asyncio>=1.6.0 in /Users/justin/Developer/huggingface/hf-cookbook/.venv/lib/python3.11/site-packages (from unstructured-client->unstructured[all-docs]) (1.6.0)\n",
      "Requirement already satisfied: botocore<1.35.0,>=1.34.133 in /Users/justin/Developer/huggingface/hf-cookbook/.venv/lib/python3.11/site-packages (from boto3<2.0.0,>=1.34.0->cohere<6.0,>=5.5.6->langchain-cohere) (1.34.133)\n",
      "Requirement already satisfied: jmespath<2.0.0,>=0.7.1 in /Users/justin/Developer/huggingface/hf-cookbook/.venv/lib/python3.11/site-packages (from boto3<2.0.0,>=1.34.0->cohere<6.0,>=5.5.6->langchain-cohere) (1.0.1)\n",
      "Requirement already satisfied: s3transfer<0.11.0,>=0.10.0 in /Users/justin/Developer/huggingface/hf-cookbook/.venv/lib/python3.11/site-packages (from boto3<2.0.0,>=1.34.0->cohere<6.0,>=5.5.6->langchain-cohere) (0.10.2)\n",
      "Requirement already satisfied: cffi>=1.12 in /Users/justin/Developer/huggingface/hf-cookbook/.venv/lib/python3.11/site-packages (from cryptography->authlib<2.0.0,>=1.2.1->weaviate-client) (1.16.0)\n",
      "Requirement already satisfied: ordered-set<4.2.0,>=4.1.0 in /Users/justin/Developer/huggingface/hf-cookbook/.venv/lib/python3.11/site-packages (from deepdiff>=6.0->unstructured-client->unstructured[all-docs]) (4.1.0)\n",
      "Requirement already satisfied: configobj in /Users/justin/Developer/huggingface/hf-cookbook/.venv/lib/python3.11/site-packages (from everett[ini]<3.2.0,>=1.0.1->comet-ml>=3.43.0->comet-llm) (5.0.8)\n",
      "Requirement already satisfied: googleapis-common-protos<2.0dev,>=1.52.0 in /Users/justin/Developer/huggingface/hf-cookbook/.venv/lib/python3.11/site-packages (from google-api-core!=2.0.*,!=2.1.*,!=2.2.*,!=2.3.0,<3.0.0dev,>=1.31.5->google-api-core[grpc]!=2.0.*,!=2.1.*,!=2.2.*,!=2.3.0,<3.0.0dev,>=1.31.5->google-cloud-vision->unstructured[all-docs]) (1.63.1)\n",
      "Requirement already satisfied: google-auth<3.0dev,>=1.25.0 in /Users/justin/Developer/huggingface/hf-cookbook/.venv/lib/python3.11/site-packages (from google-api-core!=2.0.*,!=2.1.*,!=2.2.*,!=2.3.0,<3.0.0dev,>=1.31.5->google-api-core[grpc]!=2.0.*,!=2.1.*,!=2.2.*,!=2.3.0,<3.0.0dev,>=1.31.5->google-cloud-vision->unstructured[all-docs]) (2.30.0)\n",
      "Requirement already satisfied: grpcio-status<2.0dev,>=1.33.2 in /Users/justin/Developer/huggingface/hf-cookbook/.venv/lib/python3.11/site-packages (from google-api-core[grpc]!=2.0.*,!=2.1.*,!=2.2.*,!=2.3.0,<3.0.0dev,>=1.31.5->google-cloud-vision->unstructured[all-docs]) (1.64.1)\n",
      "Requirement already satisfied: jsonpointer>=1.9 in /Users/justin/Developer/huggingface/hf-cookbook/.venv/lib/python3.11/site-packages (from jsonpatch<2.0,>=1.33->langchain-core<0.3.0,>=0.2.7->langchain) (3.0.0)\n",
      "Requirement already satisfied: jsonschema-specifications>=2023.03.6 in /Users/justin/Developer/huggingface/hf-cookbook/.venv/lib/python3.11/site-packages (from jsonschema!=3.1.0,>=2.6.0->comet-ml>=3.43.0->comet-llm) (2023.12.1)\n",
      "Requirement already satisfied: referencing>=0.28.4 in /Users/justin/Developer/huggingface/hf-cookbook/.venv/lib/python3.11/site-packages (from jsonschema!=3.1.0,>=2.6.0->comet-ml>=3.43.0->comet-llm) (0.35.1)\n",
      "Requirement already satisfied: rpds-py>=0.7.1 in /Users/justin/Developer/huggingface/hf-cookbook/.venv/lib/python3.11/site-packages (from jsonschema!=3.1.0,>=2.6.0->comet-ml>=3.43.0->comet-llm) (0.18.1)\n",
      "Requirement already satisfied: antlr4-python3-runtime==4.9.* in /Users/justin/Developer/huggingface/hf-cookbook/.venv/lib/python3.11/site-packages (from omegaconf>=2.0->effdet->unstructured[all-docs]) (4.9.3)\n",
      "Requirement already satisfied: coloredlogs in /Users/justin/Developer/huggingface/hf-cookbook/.venv/lib/python3.11/site-packages (from onnxruntime>=1.17.0->unstructured-inference==0.7.35->unstructured[all-docs]) (15.0.1)\n",
      "Requirement already satisfied: flatbuffers in /Users/justin/Developer/huggingface/hf-cookbook/.venv/lib/python3.11/site-packages (from onnxruntime>=1.17.0->unstructured-inference==0.7.35->unstructured[all-docs]) (24.3.25)\n",
      "Requirement already satisfied: sympy in /Users/justin/Developer/huggingface/hf-cookbook/.venv/lib/python3.11/site-packages (from onnxruntime>=1.17.0->unstructured-inference==0.7.35->unstructured[all-docs]) (1.12.1)\n",
      "Requirement already satisfied: contourpy>=1.0.1 in /Users/justin/Developer/huggingface/hf-cookbook/.venv/lib/python3.11/site-packages (from matplotlib->unstructured-inference==0.7.35->unstructured[all-docs]) (1.2.1)\n",
      "Requirement already satisfied: cycler>=0.10 in /Users/justin/Developer/huggingface/hf-cookbook/.venv/lib/python3.11/site-packages (from matplotlib->unstructured-inference==0.7.35->unstructured[all-docs]) (0.12.1)\n",
      "Requirement already satisfied: fonttools>=4.22.0 in /Users/justin/Developer/huggingface/hf-cookbook/.venv/lib/python3.11/site-packages (from matplotlib->unstructured-inference==0.7.35->unstructured[all-docs]) (4.53.0)\n",
      "Requirement already satisfied: kiwisolver>=1.3.1 in /Users/justin/Developer/huggingface/hf-cookbook/.venv/lib/python3.11/site-packages (from matplotlib->unstructured-inference==0.7.35->unstructured[all-docs]) (1.4.5)\n",
      "Requirement already satisfied: pyparsing>=2.3.1 in /Users/justin/Developer/huggingface/hf-cookbook/.venv/lib/python3.11/site-packages (from matplotlib->unstructured-inference==0.7.35->unstructured[all-docs]) (3.1.2)\n",
      "Requirement already satisfied: markdown-it-py>=2.2.0 in /Users/justin/Developer/huggingface/hf-cookbook/.venv/lib/python3.11/site-packages (from rich>=13.3.2->comet-ml>=3.43.0->comet-llm) (3.0.0)\n",
      "Requirement already satisfied: pygments<3.0.0,>=2.13.0 in /Users/justin/Developer/huggingface/hf-cookbook/.venv/lib/python3.11/site-packages (from rich>=13.3.2->comet-ml>=3.43.0->comet-llm) (2.18.0)\n",
      "Requirement already satisfied: jinja2 in /Users/justin/Developer/huggingface/hf-cookbook/.venv/lib/python3.11/site-packages (from torch->unstructured-inference==0.7.35->unstructured[all-docs]) (3.1.4)\n",
      "Requirement already satisfied: iopath in /Users/justin/Developer/huggingface/hf-cookbook/.venv/lib/python3.11/site-packages (from layoutparser->unstructured-inference==0.7.35->unstructured[all-docs]) (0.1.10)\n",
      "Requirement already satisfied: pdfplumber in /Users/justin/Developer/huggingface/hf-cookbook/.venv/lib/python3.11/site-packages (from layoutparser->unstructured-inference==0.7.35->unstructured[all-docs]) (0.11.1)\n",
      "Requirement already satisfied: threadpoolctl>=3.1.0 in /Users/justin/Developer/huggingface/hf-cookbook/.venv/lib/python3.11/site-packages (from scikit-learn->sentence-transformers>=2.6.0->langchain-huggingface) (3.5.0)\n",
      "Requirement already satisfied: pycparser in /Users/justin/Developer/huggingface/hf-cookbook/.venv/lib/python3.11/site-packages (from cffi>=1.12->cryptography->authlib<2.0.0,>=1.2.1->weaviate-client) (2.22)\n",
      "Requirement already satisfied: cachetools<6.0,>=2.0.0 in /Users/justin/Developer/huggingface/hf-cookbook/.venv/lib/python3.11/site-packages (from google-auth<3.0dev,>=1.25.0->google-api-core!=2.0.*,!=2.1.*,!=2.2.*,!=2.3.0,<3.0.0dev,>=1.31.5->google-api-core[grpc]!=2.0.*,!=2.1.*,!=2.2.*,!=2.3.0,<3.0.0dev,>=1.31.5->google-cloud-vision->unstructured[all-docs]) (5.3.3)\n",
      "Requirement already satisfied: pyasn1-modules>=0.2.1 in /Users/justin/Developer/huggingface/hf-cookbook/.venv/lib/python3.11/site-packages (from google-auth<3.0dev,>=1.25.0->google-api-core!=2.0.*,!=2.1.*,!=2.2.*,!=2.3.0,<3.0.0dev,>=1.31.5->google-api-core[grpc]!=2.0.*,!=2.1.*,!=2.2.*,!=2.3.0,<3.0.0dev,>=1.31.5->google-cloud-vision->unstructured[all-docs]) (0.4.0)\n",
      "Requirement already satisfied: rsa<5,>=3.1.4 in /Users/justin/Developer/huggingface/hf-cookbook/.venv/lib/python3.11/site-packages (from google-auth<3.0dev,>=1.25.0->google-api-core!=2.0.*,!=2.1.*,!=2.2.*,!=2.3.0,<3.0.0dev,>=1.31.5->google-api-core[grpc]!=2.0.*,!=2.1.*,!=2.2.*,!=2.3.0,<3.0.0dev,>=1.31.5->google-cloud-vision->unstructured[all-docs]) (4.9)\n",
      "Requirement already satisfied: mdurl~=0.1 in /Users/justin/Developer/huggingface/hf-cookbook/.venv/lib/python3.11/site-packages (from markdown-it-py>=2.2.0->rich>=13.3.2->comet-ml>=3.43.0->comet-llm) (0.1.2)\n",
      "Requirement already satisfied: humanfriendly>=9.1 in /Users/justin/Developer/huggingface/hf-cookbook/.venv/lib/python3.11/site-packages (from coloredlogs->onnxruntime>=1.17.0->unstructured-inference==0.7.35->unstructured[all-docs]) (10.0)\n",
      "Requirement already satisfied: portalocker in /Users/justin/Developer/huggingface/hf-cookbook/.venv/lib/python3.11/site-packages (from iopath->layoutparser->unstructured-inference==0.7.35->unstructured[all-docs]) (2.8.2)\n",
      "Requirement already satisfied: MarkupSafe>=2.0 in /Users/justin/Developer/huggingface/hf-cookbook/.venv/lib/python3.11/site-packages (from jinja2->torch->unstructured-inference==0.7.35->unstructured[all-docs]) (2.1.5)\n",
      "Requirement already satisfied: pypdfium2>=4.18.0 in /Users/justin/Developer/huggingface/hf-cookbook/.venv/lib/python3.11/site-packages (from pdfplumber->layoutparser->unstructured-inference==0.7.35->unstructured[all-docs]) (4.30.0)\n",
      "Requirement already satisfied: mpmath<1.4.0,>=1.1.0 in /Users/justin/Developer/huggingface/hf-cookbook/.venv/lib/python3.11/site-packages (from sympy->onnxruntime>=1.17.0->unstructured-inference==0.7.35->unstructured[all-docs]) (1.3.0)\n",
      "Requirement already satisfied: pyasn1<0.7.0,>=0.4.6 in /Users/justin/Developer/huggingface/hf-cookbook/.venv/lib/python3.11/site-packages (from pyasn1-modules>=0.2.1->google-auth<3.0dev,>=1.25.0->google-api-core!=2.0.*,!=2.1.*,!=2.2.*,!=2.3.0,<3.0.0dev,>=1.31.5->google-api-core[grpc]!=2.0.*,!=2.1.*,!=2.2.*,!=2.3.0,<3.0.0dev,>=1.31.5->google-cloud-vision->unstructured[all-docs]) (0.6.0)\n"
     ]
    }
   ],
   "source": [
    "!pip -q install langchain huggingface-hub comet-llm \"unstructured[all-docs]\" weaviate-client langchain-weaviate langchain-cohere langchain-huggingface langchain-community python-dotenv"
   ]
  },
  {
   "cell_type": "markdown",
   "id": "b24367ec",
   "metadata": {},
   "source": [
    "## Steps"
   ]
  },
  {
   "cell_type": "markdown",
   "id": "2ad87911",
   "metadata": {},
   "source": [
    "We need to do the following:\n",
    "\n",
    "<ol>\n",
    "  <li>create keys for: <a href=\"https://www.comet.com/site/\">Comet</a>, <a href=\"https://unstructured.io/api-key-free\">Unstructured</a>, <a href=\"https://weaviate.io/\">Weaviate</a>, and <a href=\"https://cohere.com/\">Cohere</a></li>\n",
    "  <li>request access to the Llama 3 models on the Hugging Face Hub</li>\n",
    "  <li>create an access token on <a href=\"https://huggingface.co/docs/hub/en/security-tokens#user-access-tokens\">Hugging Face Hub</a></li>\n",
    "  <li>Create the <a href=\"https://huggingface.co/docs/hub/collections\">collection</a> on Hugging Face</li>\n",
    "  <li>Fetch the collection with the Hugging Face Hub API</li>\n",
    "  <li>Preprocess the documents contained in the collection with Unstructured</li>\n",
    "  <li>Use Weaviate and LangChain to create a vector store and retriever</li>\n",
    "  <li>Use Hugging Face's Inference API to synthesize an answer using Meta's Llama 3 70B Instruct</li>\n",
    "</ol>"
   ]
  },
  {
   "cell_type": "markdown",
   "id": "79ec64f4",
   "metadata": {},
   "source": [
    "# Breaking down RAG"
   ]
  },
  {
   "cell_type": "markdown",
   "id": "3ddfe4ba",
   "metadata": {},
   "source": [
    "Lorem ipsum dolor sit amet"
   ]
  },
  {
   "cell_type": "markdown",
   "id": "97f8ba77",
   "metadata": {},
   "source": [
    "## Retrieval"
   ]
  },
  {
   "cell_type": "markdown",
   "id": "b094f494",
   "metadata": {},
   "source": [
    "Lorem ipsum dolor sit amet"
   ]
  },
  {
   "cell_type": "markdown",
   "id": "773160e0",
   "metadata": {},
   "source": [
    "### Vector search with Hierarchical Navigable Small Worlds (HNSW)"
   ]
  },
  {
   "cell_type": "markdown",
   "id": "828e1653",
   "metadata": {},
   "source": [
    "Lorem ipsum dolor sit amet"
   ]
  },
  {
   "cell_type": "markdown",
   "id": "22d3745d",
   "metadata": {},
   "source": [
    "### Embedding models"
   ]
  },
  {
   "cell_type": "markdown",
   "id": "7ac843d4",
   "metadata": {},
   "source": [
    "Lorem ipsum dolor sit amet"
   ]
  },
  {
   "cell_type": "markdown",
   "id": "7948b502",
   "metadata": {},
   "source": [
    "### Reranking models"
   ]
  },
  {
   "cell_type": "markdown",
   "id": "a6190a3d",
   "metadata": {},
   "source": [
    "Lorem ipsum dolor sit amet"
   ]
  },
  {
   "cell_type": "markdown",
   "id": "702effe9",
   "metadata": {},
   "source": [
    "## Synthesis aka Generation"
   ]
  },
  {
   "cell_type": "markdown",
   "id": "1407416b",
   "metadata": {},
   "source": [
    "Lorem ipsum dolor sit amet"
   ]
  },
  {
   "cell_type": "markdown",
   "id": "64864eee",
   "metadata": {},
   "source": [
    "# Combining LangChain and Comet LLM"
   ]
  },
  {
   "cell_type": "markdown",
   "id": "fbdc62b7",
   "metadata": {},
   "source": [
    "See the Comet LLM [docs](https://www.comet.com/docs/v2/guides/comet-llm/integrations/langchain/) for more."
   ]
  },
  {
   "cell_type": "markdown",
   "id": "91de4ee9",
   "metadata": {},
   "source": [
    "Lorem ipsum dolor sit amet"
   ]
  },
  {
   "cell_type": "code",
   "execution_count": 2,
   "id": "e6e07aa8",
   "metadata": {},
   "outputs": [],
   "source": [
    "import os\n",
    "import comet_llm\n",
    "\n",
    "from langchain_community.callbacks.tracers.comet import CometTracer"
   ]
  },
  {
   "cell_type": "code",
   "execution_count": 3,
   "id": "1c3b0577",
   "metadata": {},
   "outputs": [
    {
     "name": "stderr",
     "output_type": "stream",
     "text": [
      "\u001b[1;38;5;39mCOMET INFO:\u001b[0m Valid Comet API Key saved in /Users/justin/.comet.config (set COMET_CONFIG to change where it is saved).\n"
     ]
    }
   ],
   "source": [
    "comet_llm.init(project=\"hf-cookbook-advanced-rag\", api_key=os.environ[\"COMET_API_KEY\"])"
   ]
  },
  {
   "cell_type": "markdown",
   "id": "595a820f",
   "metadata": {},
   "source": [
    "## What is LangChain"
   ]
  },
  {
   "cell_type": "markdown",
   "id": "991484b9",
   "metadata": {},
   "source": [
    "Lorem ipsum dolor sit amet"
   ]
  },
  {
   "cell_type": "markdown",
   "id": "f156ba51",
   "metadata": {},
   "source": [
    "## What is Comet LLM"
   ]
  },
  {
   "cell_type": "markdown",
   "id": "715d654b",
   "metadata": {},
   "source": [
    "Lorem ipsum dolor sit amet"
   ]
  },
  {
   "cell_type": "markdown",
   "id": "da967426",
   "metadata": {},
   "source": [
    "# The Workflow"
   ]
  },
  {
   "cell_type": "code",
   "execution_count": 4,
   "id": "8af15076",
   "metadata": {},
   "outputs": [
    {
     "data": {
      "text/plain": [
       "True"
      ]
     },
     "execution_count": 4,
     "metadata": {},
     "output_type": "execute_result"
    }
   ],
   "source": [
    "\n",
    "import logging\n",
    "from textwrap import wrap\n",
    "\n",
    "from dotenv import load_dotenv\n",
    "\n",
    "load_dotenv()"
   ]
  },
  {
   "cell_type": "markdown",
   "id": "025fc4f0",
   "metadata": {},
   "source": [
    "## Get the collection and download the files"
   ]
  },
  {
   "cell_type": "code",
   "execution_count": 5,
   "id": "33435db1",
   "metadata": {},
   "outputs": [
    {
     "name": "stderr",
     "output_type": "stream",
     "text": [
      "/Users/justin/Developer/huggingface/hf-cookbook/.venv/lib/python3.11/site-packages/tqdm/auto.py:21: TqdmWarning: IProgress not found. Please update jupyter and ipywidgets. See https://ipywidgets.readthedocs.io/en/stable/user_install.html\n",
      "  from .autonotebook import tqdm as notebook_tqdm\n"
     ]
    }
   ],
   "source": [
    "from huggingface_hub import get_collection"
   ]
  },
  {
   "cell_type": "markdown",
   "id": "77d8a1c8",
   "metadata": {},
   "source": [
    "ensure the data directory exists"
   ]
  },
  {
   "cell_type": "code",
   "execution_count": 6,
   "id": "762d879e",
   "metadata": {},
   "outputs": [],
   "source": [
    "docdir = os.path.join(\".\", \"documents\")\n",
    "\n",
    "if not os.path.isdir(docdir):\n",
    "    os.mkdir(docdir)"
   ]
  },
  {
   "cell_type": "markdown",
   "id": "f78b3858",
   "metadata": {},
   "source": [
    "get the collection's files"
   ]
  },
  {
   "cell_type": "code",
   "execution_count": 7,
   "id": "4a283474",
   "metadata": {},
   "outputs": [],
   "source": [
    "# get data dir contents\n",
    "data = os.listdir(docdir)\n",
    "# get tool use paper collection\n",
    "collection = get_collection(\"jxtngx/tool-use-papers-664c6cd9cc9c64354af51e86\")\n",
    "# make arxiv urls\n",
    "urls = [\"\".join([\"https://arxiv.org/pdf/\", c.item_id]) for c in collection.items]\n",
    "\n",
    "# download files\n",
    "for url in urls:\n",
    "    docname = \"\".join([url.split('/')[-1], \".pdf\"])\n",
    "    if not os.path.exists(os.path.join(docdir, docname)):\n",
    "        os.system(f\"wget -O {os.path.join(docdir, docname)} {url}\")"
   ]
  },
  {
   "cell_type": "markdown",
   "id": "8b435a82",
   "metadata": {},
   "source": [
    "## Prep PDFs with Unstructured"
   ]
  },
  {
   "cell_type": "markdown",
   "id": "aed0a266",
   "metadata": {},
   "source": [
    "This section takes inspiration from the example in [Building RAG with Custom Unstructured Data](https://github.com/huggingface/cookbook/blob/main/notebooks/en/rag_with_unstructured_data.ipynb), by Maria Khalusova.\n",
    "\n",
    "See the sections titled `Unstructured data preprocessing` and `Chunking` of that example for a detailed walk through provided by Maria."
   ]
  },
  {
   "cell_type": "code",
   "execution_count": 8,
   "id": "7eb6a0ae",
   "metadata": {},
   "outputs": [],
   "source": [
    "from unstructured.ingest.connector.local import SimpleLocalConfig\n",
    "from unstructured.ingest.interfaces import PartitionConfig, ProcessorConfig, ReadConfig\n",
    "from unstructured.ingest.runner import LocalRunner\n",
    "from unstructured.staging.base import elements_from_json\n",
    "from unstructured.chunking.title import chunk_by_title\n",
    "from langchain_core.documents import Document"
   ]
  },
  {
   "cell_type": "code",
   "execution_count": 9,
   "id": "fbf0c69b",
   "metadata": {},
   "outputs": [],
   "source": [
    "# Optional cell to reduce the amount of logs\n",
    "logger = logging.getLogger(\"unstructured.ingest\")\n",
    "\n",
    "if logger.root.handlers:\n",
    "    logger.root.removeHandler(logger.root.handlers[0])"
   ]
  },
  {
   "cell_type": "code",
   "execution_count": 10,
   "id": "cc04be29",
   "metadata": {},
   "outputs": [
    {
     "name": "stderr",
     "output_type": "stream",
     "text": [
      "2024-06-26 19:24:32,586 MainProcess INFO     running pipeline: DocFactory -> Reader -> Partitioner -> Copier with config: {\"reprocess\": false, \"verbose\": true, \"work_dir\": \"/Users/justin/.cache/unstructured/ingest/pipeline\", \"output_dir\": \"./local-ingest-output\", \"num_processes\": 2, \"raise_on_error\": false}\n",
      "2024-06-26 19:24:32,680 MainProcess INFO     Running doc factory to generate ingest docs. Source connector: {\"processor_config\": {\"reprocess\": false, \"verbose\": true, \"work_dir\": \"/Users/justin/.cache/unstructured/ingest/pipeline\", \"output_dir\": \"./local-ingest-output\", \"num_processes\": 2, \"raise_on_error\": false}, \"read_config\": {\"download_dir\": \"\", \"re_download\": false, \"preserve_downloads\": false, \"download_only\": false, \"max_docs\": null}, \"connector_config\": {\"input_path\": \"./documents\", \"recursive\": false, \"file_glob\": null}}\n",
      "2024-06-26 19:24:32,684 MainProcess INFO     processing 2 docs via 2 processes\n",
      "2024-06-26 19:24:32,685 MainProcess INFO     Calling Reader with 2 docs\n",
      "2024-06-26 19:24:32,685 MainProcess INFO     Running source node to download data associated with ingest docs\n",
      "2024-06-26 19:24:33,771 SpawnPoolWorker-2 INFO     File exists: documents/2401.17464.pdf, skipping download\n",
      "2024-06-26 19:24:33,791 SpawnPoolWorker-3 INFO     File exists: documents/2210.03629.pdf, skipping download\n",
      "2024-06-26 19:24:33,801 MainProcess INFO     Calling Partitioner with 2 docs\n",
      "2024-06-26 19:24:33,802 MainProcess INFO     Running partition node to extract content from json files. Config: {\"pdf_infer_table_structure\": false, \"strategy\": \"auto\", \"ocr_languages\": null, \"encoding\": null, \"additional_partition_args\": {}, \"skip_infer_table_types\": null, \"fields_include\": [\"element_id\", \"text\", \"type\", \"metadata\", \"embeddings\"], \"flatten_metadata\": false, \"metadata_exclude\": [], \"metadata_include\": [], \"partition_endpoint\": \"https://api.unstructured.io/general/v0/general\", \"partition_by_api\": true, \"api_key\": \"*******\", \"hi_res_model_name\": null}, partition kwargs: {}]\n",
      "2024-06-26 19:24:33,802 MainProcess INFO     Creating /Users/justin/.cache/unstructured/ingest/pipeline/partitioned\n",
      "2024-06-26 19:24:34,972 SpawnPoolWorker-5 INFO     File exists: /Users/justin/.cache/unstructured/ingest/pipeline/partitioned/f45ad46c8b17fe363bf02b4e1cee068d.json, skipping partition\n",
      "2024-06-26 19:24:34,973 SpawnPoolWorker-4 INFO     File exists: /Users/justin/.cache/unstructured/ingest/pipeline/partitioned/448913c33b6ab1f1b869a0f70eda1f5b.json, skipping partition\n",
      "2024-06-26 19:24:34,978 MainProcess INFO     Calling Copier with 2 docs\n",
      "2024-06-26 19:24:34,979 MainProcess INFO     Running copy node to move content to desired output location\n",
      "2024-06-26 19:24:36,184 SpawnPoolWorker-7 INFO     Copying /Users/justin/.cache/unstructured/ingest/pipeline/partitioned/f45ad46c8b17fe363bf02b4e1cee068d.json -> local-ingest-output/2210.03629.pdf.json\n",
      "2024-06-26 19:24:36,185 SpawnPoolWorker-6 INFO     Copying /Users/justin/.cache/unstructured/ingest/pipeline/partitioned/448913c33b6ab1f1b869a0f70eda1f5b.json -> local-ingest-output/2401.17464.pdf.json\n"
     ]
    }
   ],
   "source": [
    "output_path = \"./local-ingest-output\"\n",
    "\n",
    "runner = LocalRunner(\n",
    "    processor_config=ProcessorConfig(\n",
    "        # logs verbosity\n",
    "        verbose=True,\n",
    "        # the local directory to store outputs\n",
    "        output_dir=output_path,\n",
    "        num_processes=2,\n",
    "        ),\n",
    "    read_config=ReadConfig(),\n",
    "    partition_config=PartitionConfig(\n",
    "        partition_by_api=True,\n",
    "        api_key=os.environ[\"UNSTRUCTURED_API_KEY\"],\n",
    "        ),\n",
    "    connector_config=SimpleLocalConfig(\n",
    "        input_path=\"./documents\",\n",
    "        # whether to get the documents recursively from given directory\n",
    "        recursive=False,\n",
    "        ),\n",
    "    )\n",
    "runner.run()"
   ]
  },
  {
   "cell_type": "code",
   "execution_count": 11,
   "id": "ebfa8985",
   "metadata": {},
   "outputs": [],
   "source": [
    "elements = []\n",
    "\n",
    "for filename in os.listdir(output_path):\n",
    "    filepath = os.path.join(output_path, filename)\n",
    "    elements.extend(elements_from_json(filepath))"
   ]
  },
  {
   "cell_type": "code",
   "execution_count": 12,
   "id": "691ecc88",
   "metadata": {},
   "outputs": [],
   "source": [
    "chunked_elements = chunk_by_title(elements,\n",
    "                                  # maximum for chunk size\n",
    "                                  max_characters=512,\n",
    "                                  # You can choose to combine consecutive elements that are too small\n",
    "                                  # e.g. individual list items\n",
    "                                  combine_text_under_n_chars=200,\n",
    "                                  )"
   ]
  },
  {
   "cell_type": "code",
   "execution_count": 13,
   "id": "c89c997e",
   "metadata": {},
   "outputs": [],
   "source": [
    "documents = []\n",
    "\n",
    "for chunked_element in chunked_elements:\n",
    "    metadata = chunked_element.metadata.to_dict()\n",
    "    metadata[\"source\"] = metadata[\"filename\"]\n",
    "    del metadata[\"languages\"]\n",
    "    documents.append(Document(page_content=chunked_element.text, metadata=metadata))"
   ]
  },
  {
   "cell_type": "markdown",
   "id": "792eb455",
   "metadata": {},
   "source": [
    "## Create the vector store and retriever"
   ]
  },
  {
   "cell_type": "markdown",
   "id": "14cee8ed",
   "metadata": {},
   "source": [
    "See the [LangChain docs](https://python.langchain.com/v0.2/docs/integrations/text_embedding/huggingfacehub/) for more on the Hugging Face embeddings integration.\n",
    "\n",
    "See the [LangChain docs](https://python.langchain.com/v0.1/docs/integrations/vectorstores/weaviate/) for more on the Weaviate integration."
   ]
  },
  {
   "cell_type": "code",
   "execution_count": 14,
   "id": "a8e7a526",
   "metadata": {},
   "outputs": [],
   "source": [
    "import weaviate\n",
    "from weaviate.auth import AuthApiKey\n",
    "\n",
    "from langchain.retrievers.contextual_compression import ContextualCompressionRetriever\n",
    "from langchain.chains import RetrievalQA\n",
    "\n",
    "from langchain_weaviate.vectorstores import WeaviateVectorStore\n",
    "from langchain_community.embeddings import HuggingFaceInferenceAPIEmbeddings\n",
    "from langchain_cohere import CohereRerank"
   ]
  },
  {
   "cell_type": "markdown",
   "id": "8c9c6edf",
   "metadata": {},
   "source": [
    "Connect to Weaviate Cloud"
   ]
  },
  {
   "cell_type": "code",
   "execution_count": 15,
   "id": "ce0cd3dd",
   "metadata": {},
   "outputs": [],
   "source": [
    "weaviate_client = weaviate.connect_to_weaviate_cloud(\n",
    "    cluster_url=os.getenv(\"WEAVIATE_URL\"),\n",
    "    auth_credentials=AuthApiKey(os.getenv(\"WEAVIATE_API_KEY\")),\n",
    ")"
   ]
  },
  {
   "cell_type": "code",
   "execution_count": 16,
   "id": "6baa554c",
   "metadata": {},
   "outputs": [],
   "source": [
    "embeddings = HuggingFaceInferenceAPIEmbeddings(\n",
    "    api_key=os.environ[\"HF_INFERENCE_API_KEY\"], \n",
    "    model_name=\"BAAI/bge-base-en-v1.5\"\n",
    ")\n",
    "vectorstore = WeaviateVectorStore.from_documents(documents, embeddings, client=weaviate_client)\n",
    "retriever = vectorstore.as_retriever(search_type=\"similarity\", search_kwargs={\"k\": 3})"
   ]
  },
  {
   "cell_type": "code",
   "execution_count": 17,
   "id": "1bce6ab8",
   "metadata": {},
   "outputs": [],
   "source": [
    "compressor = CohereRerank(cohere_api_key=os.environ[\"COHERE_API_KEY\"])\n",
    "compression_retriever = ContextualCompressionRetriever(base_compressor=compressor, base_retriever=retriever)"
   ]
  },
  {
   "cell_type": "markdown",
   "id": "a5f77edb",
   "metadata": {},
   "source": [
    "## Using Hugging Face Inference Endpoints for prototyping"
   ]
  },
  {
   "cell_type": "markdown",
   "id": "86b27a9d",
   "metadata": {},
   "source": [
    "See the [LangChain docs](https://python.langchain.com/v0.2/docs/integrations/llms/huggingface_endpoint/) for more."
   ]
  },
  {
   "cell_type": "code",
   "execution_count": 18,
   "id": "59521061",
   "metadata": {},
   "outputs": [],
   "source": [
    "from langchain_huggingface import HuggingFaceEndpoint"
   ]
  },
  {
   "cell_type": "code",
   "execution_count": 19,
   "id": "1f02be39",
   "metadata": {},
   "outputs": [
    {
     "name": "stdout",
     "output_type": "stream",
     "text": [
      "The token has not been saved to the git credentials helper. Pass `add_to_git_credential=True` in this function directly or `--add-to-git-credential` if using via `huggingface-cli` if you want to set the git credential as well.\n",
      "Token is valid (permission: fineGrained).\n",
      "Your token has been saved to /Users/justin/.cache/huggingface/token\n",
      "Login successful\n"
     ]
    }
   ],
   "source": [
    "llm = HuggingFaceEndpoint(\n",
    "    repo_id=\"meta-llama/Meta-Llama-3-70B-Instruct\",\n",
    "    model_kwargs={\"max_length\": 128},\n",
    "    temperature=0.5,\n",
    "    huggingfacehub_api_token=os.environ[\"HF_INFERENCE_API_KEY\"],\n",
    ")"
   ]
  },
  {
   "cell_type": "code",
   "execution_count": 20,
   "id": "25e89981",
   "metadata": {},
   "outputs": [],
   "source": [
    "chain = RetrievalQA.from_chain_type(\n",
    "    llm=llm, \n",
    "    retriever=compression_retriever,\n",
    ")"
   ]
  },
  {
   "cell_type": "code",
   "execution_count": 21,
   "id": "4a76f0f6",
   "metadata": {},
   "outputs": [
    {
     "name": "stdout",
     "output_type": "stream",
     "text": [
      "Chain logged to https://www.comet.com/jxtngx/hf-cookbook-advanced-rag\n"
     ]
    }
   ],
   "source": [
    "result = chain.invoke(\"What is chain of abstraction\", config = {'callbacks' : [CometTracer()]})['result']"
   ]
  },
  {
   "cell_type": "code",
   "execution_count": 22,
   "id": "48b542cc",
   "metadata": {},
   "outputs": [
    {
     "name": "stdout",
     "output_type": "stream",
     "text": [
      "Chain of abstraction (CoA) is a method that decouples general \n",
      "reasoning from domain-specific knowledge. It involves fine-tuning \n",
      "large language models (LLMs) to generate abstract reasoning chains \n",
      "with placeholders, which are then replaced with domain-specific \n",
      "knowledge obtained from external tools. \n"
     ]
    }
   ],
   "source": [
    "for sequence in wrap(result):\n",
    "    for token in sequence.split():\n",
    "        print(token, end=\" \", flush=True)\n",
    "    print()"
   ]
  }
 ],
 "metadata": {
  "kernelspec": {
   "display_name": "Python 3 (ipykernel)",
   "language": "python",
   "name": "python3"
  },
  "language_info": {
   "codemirror_mode": {
    "name": "ipython",
    "version": 3
   },
   "file_extension": ".py",
   "mimetype": "text/x-python",
   "name": "python",
   "nbconvert_exporter": "python",
   "pygments_lexer": "ipython3",
   "version": "3.11.5"
  }
 },
 "nbformat": 4,
 "nbformat_minor": 5
}
